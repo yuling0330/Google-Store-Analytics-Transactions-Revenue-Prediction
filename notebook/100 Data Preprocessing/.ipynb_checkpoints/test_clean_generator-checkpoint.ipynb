{
 "cells": [
  {
   "cell_type": "code",
   "execution_count": 1,
   "metadata": {},
   "outputs": [],
   "source": [
    "%matplotlib inline\n",
    "import os\n",
    "import json\n",
    "import numpy as np\n",
    "import pandas as pd\n",
    "from pandas.io.json import json_normalize\n",
    "import pickle"
   ]
  },
  {
   "cell_type": "code",
   "execution_count": 11,
   "metadata": {},
   "outputs": [],
   "source": [
    "in_path = \"test_v2.csv\" #Path where the large file is\n",
    "#out_path = \"\" #Path to save the pickle files to\n",
    "chunk_size = 30000 #size of chunks relies on your available memory\n",
    "separator = \",\"\n",
    "\n",
    "JSON_COLUMNS = ['device', 'geoNetwork', 'totals', 'trafficSource']\n",
    "\n",
    "reader = pd.read_csv(in_path,sep=separator,chunksize=chunk_size,\n",
    "                     converters={column: json.loads for column in JSON_COLUMNS}, \n",
    "                     dtype={'fullVisitorId': 'str'},\n",
    "                    low_memory=False,error_bad_lines=False)    \n",
    "\n",
    "\n",
    "for i, chunk in enumerate(reader):\n",
    "    out_file = \"test/test_{}.pkl\".format(i+1)\n",
    "    with open(out_file, \"wb\") as f:\n",
    "        pickle.dump(chunk,f,pickle.HIGHEST_PROTOCOL)"
   ]
  },
  {
   "cell_type": "code",
   "execution_count": 12,
   "metadata": {},
   "outputs": [],
   "source": [
    "import glob\n",
    "pickle_path = \"test\" #Same Path as out_path i.e. where the pickle files are\n",
    "\n",
    "data_p_files=[]\n",
    "for name in glob.glob(pickle_path + \"/test_*.pkl\"):\n",
    "    data_p_files.append(name)\n",
    "\n",
    "\n",
    "test = pd.DataFrame([])\n",
    "for i in range(len(data_p_files)):\n",
    "    test = test.append(pd.read_pickle(data_p_files[i]),ignore_index=True)"
   ]
  },
  {
   "cell_type": "code",
   "execution_count": 14,
   "metadata": {},
   "outputs": [],
   "source": [
    "test = test.drop(['hits', 'customDimensions'], axis=1)"
   ]
  },
  {
   "cell_type": "code",
   "execution_count": 15,
   "metadata": {
    "scrolled": true
   },
   "outputs": [
    {
     "name": "stdout",
     "output_type": "stream",
     "text": [
      "Extracted test. Shape: (401589, 57)\n"
     ]
    }
   ],
   "source": [
    "JSON_COLUMNS = ['device', 'geoNetwork', 'totals', 'trafficSource']\n",
    "for column in JSON_COLUMNS:\n",
    "    column_as_df = json_normalize(test[column])\n",
    "    column_as_df.columns = [f\"{column}.{subcolumn}\" for subcolumn in column_as_df.columns]\n",
    "    test = test.drop(column, axis=1).merge(column_as_df, right_index=True, left_index=True)\n",
    "print(f\"Extracted test. Shape: {test.shape}\")"
   ]
  },
  {
   "cell_type": "code",
   "execution_count": 16,
   "metadata": {},
   "outputs": [
    {
     "data": {
      "text/html": [
       "<div>\n",
       "<style scoped>\n",
       "    .dataframe tbody tr th:only-of-type {\n",
       "        vertical-align: middle;\n",
       "    }\n",
       "\n",
       "    .dataframe tbody tr th {\n",
       "        vertical-align: top;\n",
       "    }\n",
       "\n",
       "    .dataframe thead th {\n",
       "        text-align: right;\n",
       "    }\n",
       "</style>\n",
       "<table border=\"1\" class=\"dataframe\">\n",
       "  <thead>\n",
       "    <tr style=\"text-align: right;\">\n",
       "      <th></th>\n",
       "      <th>channelGrouping</th>\n",
       "      <th>date</th>\n",
       "      <th>fullVisitorId</th>\n",
       "      <th>socialEngagementType</th>\n",
       "      <th>visitId</th>\n",
       "      <th>visitNumber</th>\n",
       "      <th>visitStartTime</th>\n",
       "      <th>device.browser</th>\n",
       "      <th>device.browserSize</th>\n",
       "      <th>device.browserVersion</th>\n",
       "      <th>...</th>\n",
       "      <th>trafficSource.adwordsClickInfo.gclId</th>\n",
       "      <th>trafficSource.adwordsClickInfo.isVideoAd</th>\n",
       "      <th>trafficSource.adwordsClickInfo.page</th>\n",
       "      <th>trafficSource.adwordsClickInfo.slot</th>\n",
       "      <th>trafficSource.campaign</th>\n",
       "      <th>trafficSource.isTrueDirect</th>\n",
       "      <th>trafficSource.keyword</th>\n",
       "      <th>trafficSource.medium</th>\n",
       "      <th>trafficSource.referralPath</th>\n",
       "      <th>trafficSource.source</th>\n",
       "    </tr>\n",
       "  </thead>\n",
       "  <tbody>\n",
       "    <tr>\n",
       "      <th>0</th>\n",
       "      <td>Organic Search</td>\n",
       "      <td>20180511</td>\n",
       "      <td>7460955084541987166</td>\n",
       "      <td>Not Socially Engaged</td>\n",
       "      <td>1526099341</td>\n",
       "      <td>2</td>\n",
       "      <td>1526099341</td>\n",
       "      <td>Chrome</td>\n",
       "      <td>not available in demo dataset</td>\n",
       "      <td>not available in demo dataset</td>\n",
       "      <td>...</td>\n",
       "      <td>NaN</td>\n",
       "      <td>NaN</td>\n",
       "      <td>NaN</td>\n",
       "      <td>NaN</td>\n",
       "      <td>(not set)</td>\n",
       "      <td>True</td>\n",
       "      <td>(not provided)</td>\n",
       "      <td>organic</td>\n",
       "      <td>(not set)</td>\n",
       "      <td>google</td>\n",
       "    </tr>\n",
       "    <tr>\n",
       "      <th>1</th>\n",
       "      <td>Direct</td>\n",
       "      <td>20180511</td>\n",
       "      <td>460252456180441002</td>\n",
       "      <td>Not Socially Engaged</td>\n",
       "      <td>1526064483</td>\n",
       "      <td>166</td>\n",
       "      <td>1526064483</td>\n",
       "      <td>Chrome</td>\n",
       "      <td>not available in demo dataset</td>\n",
       "      <td>not available in demo dataset</td>\n",
       "      <td>...</td>\n",
       "      <td>NaN</td>\n",
       "      <td>NaN</td>\n",
       "      <td>NaN</td>\n",
       "      <td>NaN</td>\n",
       "      <td>(not set)</td>\n",
       "      <td>True</td>\n",
       "      <td>(not set)</td>\n",
       "      <td>(none)</td>\n",
       "      <td>(not set)</td>\n",
       "      <td>(direct)</td>\n",
       "    </tr>\n",
       "  </tbody>\n",
       "</table>\n",
       "<p>2 rows × 57 columns</p>\n",
       "</div>"
      ],
      "text/plain": [
       "  channelGrouping      date        fullVisitorId  socialEngagementType  \\\n",
       "0  Organic Search  20180511  7460955084541987166  Not Socially Engaged   \n",
       "1          Direct  20180511   460252456180441002  Not Socially Engaged   \n",
       "\n",
       "      visitId  visitNumber  visitStartTime device.browser  \\\n",
       "0  1526099341            2      1526099341         Chrome   \n",
       "1  1526064483          166      1526064483         Chrome   \n",
       "\n",
       "              device.browserSize          device.browserVersion  ...  \\\n",
       "0  not available in demo dataset  not available in demo dataset  ...   \n",
       "1  not available in demo dataset  not available in demo dataset  ...   \n",
       "\n",
       "  trafficSource.adwordsClickInfo.gclId  \\\n",
       "0                                  NaN   \n",
       "1                                  NaN   \n",
       "\n",
       "  trafficSource.adwordsClickInfo.isVideoAd  \\\n",
       "0                                      NaN   \n",
       "1                                      NaN   \n",
       "\n",
       "   trafficSource.adwordsClickInfo.page trafficSource.adwordsClickInfo.slot  \\\n",
       "0                                  NaN                                 NaN   \n",
       "1                                  NaN                                 NaN   \n",
       "\n",
       "  trafficSource.campaign trafficSource.isTrueDirect trafficSource.keyword  \\\n",
       "0              (not set)                       True        (not provided)   \n",
       "1              (not set)                       True             (not set)   \n",
       "\n",
       "  trafficSource.medium trafficSource.referralPath trafficSource.source  \n",
       "0              organic                  (not set)               google  \n",
       "1               (none)                  (not set)             (direct)  \n",
       "\n",
       "[2 rows x 57 columns]"
      ]
     },
     "execution_count": 16,
     "metadata": {},
     "output_type": "execute_result"
    }
   ],
   "source": [
    "test.head(2)"
   ]
  },
  {
   "cell_type": "code",
   "execution_count": 23,
   "metadata": {},
   "outputs": [
    {
     "data": {
      "text/plain": [
       "['socialEngagementType',\n",
       " 'device.browserSize',\n",
       " 'device.browserVersion',\n",
       " 'device.flashVersion',\n",
       " 'device.language',\n",
       " 'device.mobileDeviceBranding',\n",
       " 'device.mobileDeviceInfo',\n",
       " 'device.mobileDeviceMarketingName',\n",
       " 'device.mobileDeviceModel',\n",
       " 'device.mobileInputSelector',\n",
       " 'device.operatingSystemVersion',\n",
       " 'device.screenColors',\n",
       " 'device.screenResolution',\n",
       " 'geoNetwork.cityId',\n",
       " 'geoNetwork.latitude',\n",
       " 'geoNetwork.longitude',\n",
       " 'geoNetwork.networkLocation',\n",
       " 'totals.visits',\n",
       " 'trafficSource.adwordsClickInfo.criteriaParameters']"
      ]
     },
     "execution_count": 23,
     "metadata": {},
     "output_type": "execute_result"
    }
   ],
   "source": [
    "# select constant columns\n",
    "const_cols = [c for c in test.columns if test[c].nunique(dropna=False)==1 ]\n",
    "const_cols"
   ]
  },
  {
   "cell_type": "code",
   "execution_count": 24,
   "metadata": {},
   "outputs": [],
   "source": [
    "test = test.drop(const_cols, axis=1)"
   ]
  },
  {
   "cell_type": "code",
   "execution_count": 25,
   "metadata": {},
   "outputs": [
    {
     "data": {
      "text/plain": [
       "(401589, 38)"
      ]
     },
     "execution_count": 25,
     "metadata": {},
     "output_type": "execute_result"
    }
   ],
   "source": [
    "test.shape"
   ]
  },
  {
   "cell_type": "code",
   "execution_count": 26,
   "metadata": {
    "scrolled": false
   },
   "outputs": [
    {
     "name": "stdout",
     "output_type": "stream",
     "text": [
      "<class 'pandas.core.frame.DataFrame'>\n",
      "RangeIndex: 401589 entries, 0 to 401588\n",
      "Data columns (total 38 columns):\n",
      "channelGrouping                                 401589 non-null object\n",
      "date                                            401589 non-null int64\n",
      "fullVisitorId                                   401589 non-null object\n",
      "visitId                                         401589 non-null int64\n",
      "visitNumber                                     401589 non-null int64\n",
      "visitStartTime                                  401589 non-null int64\n",
      "device.browser                                  401589 non-null object\n",
      "device.deviceCategory                           401589 non-null object\n",
      "device.isMobile                                 401589 non-null bool\n",
      "device.operatingSystem                          401589 non-null object\n",
      "geoNetwork.city                                 401589 non-null object\n",
      "geoNetwork.continent                            401589 non-null object\n",
      "geoNetwork.country                              401589 non-null object\n",
      "geoNetwork.metro                                401589 non-null object\n",
      "geoNetwork.networkDomain                        401589 non-null object\n",
      "geoNetwork.region                               401589 non-null object\n",
      "geoNetwork.subContinent                         401589 non-null object\n",
      "totals.bounces                                  182678 non-null object\n",
      "totals.hits                                     401589 non-null object\n",
      "totals.newVisits                                286065 non-null object\n",
      "totals.pageviews                                401488 non-null object\n",
      "totals.sessionQualityDim                        401589 non-null object\n",
      "totals.timeOnSite                               217903 non-null object\n",
      "totals.totalTransactionRevenue                  4594 non-null object\n",
      "totals.transactionRevenue                       4594 non-null object\n",
      "totals.transactions                             6305 non-null object\n",
      "trafficSource.adContent                         401589 non-null object\n",
      "trafficSource.adwordsClickInfo.adNetworkType    10605 non-null object\n",
      "trafficSource.adwordsClickInfo.gclId            10612 non-null object\n",
      "trafficSource.adwordsClickInfo.isVideoAd        10605 non-null object\n",
      "trafficSource.adwordsClickInfo.page             10605 non-null object\n",
      "trafficSource.adwordsClickInfo.slot             10605 non-null object\n",
      "trafficSource.campaign                          401589 non-null object\n",
      "trafficSource.isTrueDirect                      148409 non-null object\n",
      "trafficSource.keyword                           361363 non-null object\n",
      "trafficSource.medium                            401589 non-null object\n",
      "trafficSource.referralPath                      401589 non-null object\n",
      "trafficSource.source                            401589 non-null object\n",
      "dtypes: bool(1), int64(4), object(33)\n",
      "memory usage: 113.7+ MB\n"
     ]
    }
   ],
   "source": [
    "test.info()"
   ]
  },
  {
   "cell_type": "code",
   "execution_count": 27,
   "metadata": {},
   "outputs": [
    {
     "data": {
      "text/html": [
       "<div>\n",
       "<style scoped>\n",
       "    .dataframe tbody tr th:only-of-type {\n",
       "        vertical-align: middle;\n",
       "    }\n",
       "\n",
       "    .dataframe tbody tr th {\n",
       "        vertical-align: top;\n",
       "    }\n",
       "\n",
       "    .dataframe thead th {\n",
       "        text-align: right;\n",
       "    }\n",
       "</style>\n",
       "<table border=\"1\" class=\"dataframe\">\n",
       "  <thead>\n",
       "    <tr style=\"text-align: right;\">\n",
       "      <th></th>\n",
       "      <th>channelGrouping</th>\n",
       "      <th>date</th>\n",
       "      <th>fullVisitorId</th>\n",
       "      <th>visitId</th>\n",
       "      <th>visitNumber</th>\n",
       "      <th>visitStartTime</th>\n",
       "      <th>device.browser</th>\n",
       "      <th>device.deviceCategory</th>\n",
       "      <th>device.isMobile</th>\n",
       "      <th>device.operatingSystem</th>\n",
       "      <th>...</th>\n",
       "      <th>trafficSource.adwordsClickInfo.gclId</th>\n",
       "      <th>trafficSource.adwordsClickInfo.isVideoAd</th>\n",
       "      <th>trafficSource.adwordsClickInfo.page</th>\n",
       "      <th>trafficSource.adwordsClickInfo.slot</th>\n",
       "      <th>trafficSource.campaign</th>\n",
       "      <th>trafficSource.isTrueDirect</th>\n",
       "      <th>trafficSource.keyword</th>\n",
       "      <th>trafficSource.medium</th>\n",
       "      <th>trafficSource.referralPath</th>\n",
       "      <th>trafficSource.source</th>\n",
       "    </tr>\n",
       "  </thead>\n",
       "  <tbody>\n",
       "    <tr>\n",
       "      <th>59918</th>\n",
       "      <td>Direct</td>\n",
       "      <td>20180725</td>\n",
       "      <td>0356436964905854241</td>\n",
       "      <td>1532508966</td>\n",
       "      <td>1</td>\n",
       "      <td>1532508966</td>\n",
       "      <td>Chrome</td>\n",
       "      <td>desktop</td>\n",
       "      <td>False</td>\n",
       "      <td>Windows</td>\n",
       "      <td>...</td>\n",
       "      <td>NaN</td>\n",
       "      <td>NaN</td>\n",
       "      <td>NaN</td>\n",
       "      <td>NaN</td>\n",
       "      <td>(not set)</td>\n",
       "      <td>True</td>\n",
       "      <td>(not set)</td>\n",
       "      <td>(none)</td>\n",
       "      <td>(not set)</td>\n",
       "      <td>(direct)</td>\n",
       "    </tr>\n",
       "    <tr>\n",
       "      <th>107158</th>\n",
       "      <td>Organic Search</td>\n",
       "      <td>20181004</td>\n",
       "      <td>142139349729638574</td>\n",
       "      <td>1538685758</td>\n",
       "      <td>1</td>\n",
       "      <td>1538685758</td>\n",
       "      <td>Safari</td>\n",
       "      <td>desktop</td>\n",
       "      <td>False</td>\n",
       "      <td>Macintosh</td>\n",
       "      <td>...</td>\n",
       "      <td>NaN</td>\n",
       "      <td>NaN</td>\n",
       "      <td>NaN</td>\n",
       "      <td>NaN</td>\n",
       "      <td>(not set)</td>\n",
       "      <td>NaN</td>\n",
       "      <td>(not provided)</td>\n",
       "      <td>organic</td>\n",
       "      <td>(not set)</td>\n",
       "      <td>google</td>\n",
       "    </tr>\n",
       "  </tbody>\n",
       "</table>\n",
       "<p>2 rows × 38 columns</p>\n",
       "</div>"
      ],
      "text/plain": [
       "       channelGrouping      date        fullVisitorId     visitId  \\\n",
       "59918           Direct  20180725  0356436964905854241  1532508966   \n",
       "107158  Organic Search  20181004   142139349729638574  1538685758   \n",
       "\n",
       "        visitNumber  visitStartTime device.browser device.deviceCategory  \\\n",
       "59918             1      1532508966         Chrome               desktop   \n",
       "107158            1      1538685758         Safari               desktop   \n",
       "\n",
       "        device.isMobile device.operatingSystem  ...  \\\n",
       "59918             False                Windows  ...   \n",
       "107158            False              Macintosh  ...   \n",
       "\n",
       "       trafficSource.adwordsClickInfo.gclId  \\\n",
       "59918                                   NaN   \n",
       "107158                                  NaN   \n",
       "\n",
       "       trafficSource.adwordsClickInfo.isVideoAd  \\\n",
       "59918                                       NaN   \n",
       "107158                                      NaN   \n",
       "\n",
       "       trafficSource.adwordsClickInfo.page  \\\n",
       "59918                                  NaN   \n",
       "107158                                 NaN   \n",
       "\n",
       "       trafficSource.adwordsClickInfo.slot trafficSource.campaign  \\\n",
       "59918                                  NaN              (not set)   \n",
       "107158                                 NaN              (not set)   \n",
       "\n",
       "       trafficSource.isTrueDirect trafficSource.keyword trafficSource.medium  \\\n",
       "59918                        True             (not set)               (none)   \n",
       "107158                        NaN        (not provided)              organic   \n",
       "\n",
       "       trafficSource.referralPath trafficSource.source  \n",
       "59918                   (not set)             (direct)  \n",
       "107158                  (not set)               google  \n",
       "\n",
       "[2 rows x 38 columns]"
      ]
     },
     "execution_count": 27,
     "metadata": {},
     "output_type": "execute_result"
    }
   ],
   "source": [
    "test.sample(2)"
   ]
  },
  {
   "cell_type": "code",
   "execution_count": 28,
   "metadata": {},
   "outputs": [],
   "source": [
    "test.to_pickle(\"test_clean.pkl\")"
   ]
  }
 ],
 "metadata": {
  "kernelspec": {
   "display_name": "Python 3",
   "language": "python",
   "name": "python3"
  },
  "language_info": {
   "codemirror_mode": {
    "name": "ipython",
    "version": 3
   },
   "file_extension": ".py",
   "mimetype": "text/x-python",
   "name": "python",
   "nbconvert_exporter": "python",
   "pygments_lexer": "ipython3",
   "version": "3.6.9"
  }
 },
 "nbformat": 4,
 "nbformat_minor": 2
}
