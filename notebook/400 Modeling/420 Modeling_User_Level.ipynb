{
 "cells": [
  {
   "cell_type": "markdown",
   "metadata": {},
   "source": [
    "### Modeling on user Level"
   ]
  },
  {
   "cell_type": "code",
   "execution_count": 135,
   "metadata": {},
   "outputs": [],
   "source": [
    "# load required library\n",
    "%matplotlib inline\n",
    "import pandas as pd\n",
    "import numpy as np\n",
    "import math\n",
    "import datetime\n",
    "import matplotlib.pyplot as plt\n",
    "import seaborn as sns\n",
    "from sklearn.model_selection import train_test_split\n",
    "\n",
    "# Importing Classifier Modules\n",
    "from sklearn.linear_model import LinearRegression\n",
    "from sklearn.tree import DecisionTreeRegressor\n",
    "from sklearn.ensemble import GradientBoostingRegressor\n",
    "from sklearn.neighbors import KNeighborsRegressor\n",
    "from sklearn.ensemble import RandomForestRegressor\n",
    "\n",
    "# cross validation\n",
    "import sklearn\n",
    "from sklearn.metrics import mean_squared_error as MSE\n",
    "from sklearn.model_selection import cross_validate\n",
    "from sklearn.model_selection import GridSearchCV\n",
    "from sklearn.model_selection import cross_val_score\n",
    "\n",
    "import warnings\n",
    "warnings.filterwarnings(\"ignore\")"
   ]
  },
  {
   "cell_type": "code",
   "execution_count": 2,
   "metadata": {},
   "outputs": [
    {
     "data": {
      "text/plain": [
       "'C:\\\\Users\\\\betty\\\\OneDrive\\\\Documents\\\\GitHub\\\\theme\\\\Google-Store-Analytics-Transactions-Revenue-Prediction'"
      ]
     },
     "execution_count": 2,
     "metadata": {},
     "output_type": "execute_result"
    }
   ],
   "source": [
    "os.chdir('../../')\n",
    "\n",
    "os.getcwd()"
   ]
  },
  {
   "cell_type": "code",
   "execution_count": 3,
   "metadata": {},
   "outputs": [],
   "source": [
    "# read the data\n",
    "path = 'dataset/clean_data/'\n",
    "\n",
    "# Load data\n",
    "df = pd.read_pickle('customer_dataset.pkl')"
   ]
  },
  {
   "cell_type": "code",
   "execution_count": 137,
   "metadata": {},
   "outputs": [
    {
     "data": {
      "text/html": [
       "<div>\n",
       "<style scoped>\n",
       "    .dataframe tbody tr th:only-of-type {\n",
       "        vertical-align: middle;\n",
       "    }\n",
       "\n",
       "    .dataframe tbody tr th {\n",
       "        vertical-align: top;\n",
       "    }\n",
       "\n",
       "    .dataframe thead th {\n",
       "        text-align: right;\n",
       "    }\n",
       "</style>\n",
       "<table border=\"1\" class=\"dataframe\">\n",
       "  <thead>\n",
       "    <tr style=\"text-align: right;\">\n",
       "      <th></th>\n",
       "      <th>id</th>\n",
       "      <th>logRevenue</th>\n",
       "      <th>totals.hits_sum</th>\n",
       "      <th>totals.hits_mean</th>\n",
       "      <th>totals.pageviews_sum</th>\n",
       "      <th>totals.pageviews_mean</th>\n",
       "      <th>totals.bounces_sum</th>\n",
       "      <th>totals.bounces_mean</th>\n",
       "      <th>totals.newVisits_sum</th>\n",
       "      <th>totals.newVisits_mean</th>\n",
       "      <th>TS_adwordsClickInfo.page_max</th>\n",
       "      <th>BS_Firefox_max</th>\n",
       "      <th>BS_Chrome_max</th>\n",
       "      <th>BS_Safari_max</th>\n",
       "      <th>BS_IE_max</th>\n",
       "      <th>BS_Android_max</th>\n",
       "      <th>OS_Windows_max</th>\n",
       "      <th>OS_Macintosh_max</th>\n",
       "      <th>OS_Android_max</th>\n",
       "      <th>OS_iOS_max</th>\n",
       "      <th>subCont_NorthernAmerica_max</th>\n",
       "      <th>subCont_Western Africa_max</th>\n",
       "      <th>country_USA_max</th>\n",
       "      <th>country_Australia_max</th>\n",
       "      <th>medium_cpm_max</th>\n",
       "      <th>CG_Affiliates_max</th>\n",
       "      <th>CG_Direct_max</th>\n",
       "      <th>CG_Display_max</th>\n",
       "      <th>CG_organicSearch_max</th>\n",
       "      <th>CG_paidSearch_max</th>\n",
       "      <th>CG_Referral_max</th>\n",
       "      <th>CG_Social_max</th>\n",
       "      <th>device_Mobile_max</th>\n",
       "      <th>device_Desktop_max</th>\n",
       "      <th>cont_Africa_max</th>\n",
       "      <th>cont_Americas_max</th>\n",
       "      <th>cont_Asia_max</th>\n",
       "      <th>cont_Europe_max</th>\n",
       "      <th>cont_Oceania_max</th>\n",
       "      <th>TS_isTrueDirect_max</th>\n",
       "      <th>TS_sessionQuality.100_max</th>\n",
       "      <th>TS_Slot.RHS_max</th>\n",
       "      <th>TS_Slot.Top_max</th>\n",
       "      <th>TS_Network.Content_max</th>\n",
       "      <th>TS_Network.GSearch_max</th>\n",
       "      <th>TS_Network.PSearch_max</th>\n",
       "    </tr>\n",
       "  </thead>\n",
       "  <tbody>\n",
       "    <tr>\n",
       "      <th>0</th>\n",
       "      <td>0000000259678714014</td>\n",
       "      <td>0.0</td>\n",
       "      <td>19</td>\n",
       "      <td>9.5</td>\n",
       "      <td>13.0</td>\n",
       "      <td>6.5</td>\n",
       "      <td>0.0</td>\n",
       "      <td>0.0</td>\n",
       "      <td>1.0</td>\n",
       "      <td>0.500000</td>\n",
       "      <td>0</td>\n",
       "      <td>0</td>\n",
       "      <td>1</td>\n",
       "      <td>0</td>\n",
       "      <td>0</td>\n",
       "      <td>0</td>\n",
       "      <td>0</td>\n",
       "      <td>1</td>\n",
       "      <td>0</td>\n",
       "      <td>0</td>\n",
       "      <td>1</td>\n",
       "      <td>0</td>\n",
       "      <td>1</td>\n",
       "      <td>0</td>\n",
       "      <td>0</td>\n",
       "      <td>0</td>\n",
       "      <td>0</td>\n",
       "      <td>0</td>\n",
       "      <td>1</td>\n",
       "      <td>0</td>\n",
       "      <td>0</td>\n",
       "      <td>0</td>\n",
       "      <td>0</td>\n",
       "      <td>1</td>\n",
       "      <td>0</td>\n",
       "      <td>1</td>\n",
       "      <td>0</td>\n",
       "      <td>0</td>\n",
       "      <td>0</td>\n",
       "      <td>1</td>\n",
       "      <td>0</td>\n",
       "      <td>0</td>\n",
       "      <td>0</td>\n",
       "      <td>0</td>\n",
       "      <td>0</td>\n",
       "      <td>0</td>\n",
       "    </tr>\n",
       "    <tr>\n",
       "      <th>1</th>\n",
       "      <td>0000027376579751715</td>\n",
       "      <td>0.0</td>\n",
       "      <td>6</td>\n",
       "      <td>6.0</td>\n",
       "      <td>5.0</td>\n",
       "      <td>5.0</td>\n",
       "      <td>0.0</td>\n",
       "      <td>0.0</td>\n",
       "      <td>1.0</td>\n",
       "      <td>1.000000</td>\n",
       "      <td>0</td>\n",
       "      <td>0</td>\n",
       "      <td>1</td>\n",
       "      <td>0</td>\n",
       "      <td>0</td>\n",
       "      <td>0</td>\n",
       "      <td>0</td>\n",
       "      <td>1</td>\n",
       "      <td>0</td>\n",
       "      <td>0</td>\n",
       "      <td>1</td>\n",
       "      <td>0</td>\n",
       "      <td>1</td>\n",
       "      <td>0</td>\n",
       "      <td>0</td>\n",
       "      <td>0</td>\n",
       "      <td>0</td>\n",
       "      <td>0</td>\n",
       "      <td>1</td>\n",
       "      <td>0</td>\n",
       "      <td>0</td>\n",
       "      <td>0</td>\n",
       "      <td>0</td>\n",
       "      <td>1</td>\n",
       "      <td>0</td>\n",
       "      <td>1</td>\n",
       "      <td>0</td>\n",
       "      <td>0</td>\n",
       "      <td>0</td>\n",
       "      <td>1</td>\n",
       "      <td>0</td>\n",
       "      <td>0</td>\n",
       "      <td>0</td>\n",
       "      <td>0</td>\n",
       "      <td>0</td>\n",
       "      <td>0</td>\n",
       "    </tr>\n",
       "    <tr>\n",
       "      <th>2</th>\n",
       "      <td>0000039460501403861</td>\n",
       "      <td>0.0</td>\n",
       "      <td>2</td>\n",
       "      <td>2.0</td>\n",
       "      <td>2.0</td>\n",
       "      <td>2.0</td>\n",
       "      <td>0.0</td>\n",
       "      <td>0.0</td>\n",
       "      <td>1.0</td>\n",
       "      <td>1.000000</td>\n",
       "      <td>0</td>\n",
       "      <td>0</td>\n",
       "      <td>1</td>\n",
       "      <td>0</td>\n",
       "      <td>0</td>\n",
       "      <td>0</td>\n",
       "      <td>1</td>\n",
       "      <td>0</td>\n",
       "      <td>0</td>\n",
       "      <td>0</td>\n",
       "      <td>0</td>\n",
       "      <td>0</td>\n",
       "      <td>0</td>\n",
       "      <td>0</td>\n",
       "      <td>0</td>\n",
       "      <td>0</td>\n",
       "      <td>0</td>\n",
       "      <td>0</td>\n",
       "      <td>0</td>\n",
       "      <td>0</td>\n",
       "      <td>0</td>\n",
       "      <td>1</td>\n",
       "      <td>0</td>\n",
       "      <td>1</td>\n",
       "      <td>0</td>\n",
       "      <td>1</td>\n",
       "      <td>0</td>\n",
       "      <td>0</td>\n",
       "      <td>0</td>\n",
       "      <td>1</td>\n",
       "      <td>0</td>\n",
       "      <td>0</td>\n",
       "      <td>0</td>\n",
       "      <td>0</td>\n",
       "      <td>0</td>\n",
       "      <td>0</td>\n",
       "    </tr>\n",
       "    <tr>\n",
       "      <th>3</th>\n",
       "      <td>0000040862739425590</td>\n",
       "      <td>0.0</td>\n",
       "      <td>5</td>\n",
       "      <td>2.5</td>\n",
       "      <td>5.0</td>\n",
       "      <td>2.5</td>\n",
       "      <td>0.0</td>\n",
       "      <td>0.0</td>\n",
       "      <td>1.0</td>\n",
       "      <td>0.500000</td>\n",
       "      <td>1</td>\n",
       "      <td>0</td>\n",
       "      <td>1</td>\n",
       "      <td>0</td>\n",
       "      <td>0</td>\n",
       "      <td>0</td>\n",
       "      <td>0</td>\n",
       "      <td>1</td>\n",
       "      <td>0</td>\n",
       "      <td>0</td>\n",
       "      <td>1</td>\n",
       "      <td>0</td>\n",
       "      <td>1</td>\n",
       "      <td>0</td>\n",
       "      <td>0</td>\n",
       "      <td>0</td>\n",
       "      <td>0</td>\n",
       "      <td>0</td>\n",
       "      <td>0</td>\n",
       "      <td>1</td>\n",
       "      <td>0</td>\n",
       "      <td>0</td>\n",
       "      <td>0</td>\n",
       "      <td>1</td>\n",
       "      <td>0</td>\n",
       "      <td>1</td>\n",
       "      <td>0</td>\n",
       "      <td>0</td>\n",
       "      <td>0</td>\n",
       "      <td>1</td>\n",
       "      <td>0</td>\n",
       "      <td>0</td>\n",
       "      <td>1</td>\n",
       "      <td>0</td>\n",
       "      <td>1</td>\n",
       "      <td>0</td>\n",
       "    </tr>\n",
       "    <tr>\n",
       "      <th>4</th>\n",
       "      <td>0000049363351866189</td>\n",
       "      <td>0.0</td>\n",
       "      <td>3</td>\n",
       "      <td>1.0</td>\n",
       "      <td>3.0</td>\n",
       "      <td>1.0</td>\n",
       "      <td>3.0</td>\n",
       "      <td>1.0</td>\n",
       "      <td>1.0</td>\n",
       "      <td>0.333333</td>\n",
       "      <td>0</td>\n",
       "      <td>0</td>\n",
       "      <td>1</td>\n",
       "      <td>0</td>\n",
       "      <td>0</td>\n",
       "      <td>0</td>\n",
       "      <td>0</td>\n",
       "      <td>0</td>\n",
       "      <td>0</td>\n",
       "      <td>0</td>\n",
       "      <td>0</td>\n",
       "      <td>0</td>\n",
       "      <td>0</td>\n",
       "      <td>0</td>\n",
       "      <td>0</td>\n",
       "      <td>0</td>\n",
       "      <td>1</td>\n",
       "      <td>0</td>\n",
       "      <td>0</td>\n",
       "      <td>0</td>\n",
       "      <td>0</td>\n",
       "      <td>0</td>\n",
       "      <td>0</td>\n",
       "      <td>1</td>\n",
       "      <td>0</td>\n",
       "      <td>0</td>\n",
       "      <td>1</td>\n",
       "      <td>0</td>\n",
       "      <td>0</td>\n",
       "      <td>0</td>\n",
       "      <td>0</td>\n",
       "      <td>0</td>\n",
       "      <td>0</td>\n",
       "      <td>0</td>\n",
       "      <td>0</td>\n",
       "      <td>0</td>\n",
       "    </tr>\n",
       "  </tbody>\n",
       "</table>\n",
       "</div>"
      ],
      "text/plain": [
       "                    id  logRevenue  totals.hits_sum  totals.hits_mean  totals.pageviews_sum  totals.pageviews_mean  totals.bounces_sum  totals.bounces_mean  totals.newVisits_sum  totals.newVisits_mean  TS_adwordsClickInfo.page_max  BS_Firefox_max  BS_Chrome_max  BS_Safari_max  BS_IE_max  BS_Android_max  OS_Windows_max  OS_Macintosh_max  OS_Android_max  OS_iOS_max  subCont_NorthernAmerica_max  subCont_Western Africa_max  country_USA_max  country_Australia_max  medium_cpm_max  CG_Affiliates_max  CG_Direct_max  CG_Display_max  CG_organicSearch_max  CG_paidSearch_max  CG_Referral_max  CG_Social_max  device_Mobile_max  device_Desktop_max  cont_Africa_max  cont_Americas_max  cont_Asia_max  cont_Europe_max  cont_Oceania_max  TS_isTrueDirect_max  TS_sessionQuality.100_max  TS_Slot.RHS_max  TS_Slot.Top_max  TS_Network.Content_max  TS_Network.GSearch_max  TS_Network.PSearch_max\n",
       "0  0000000259678714014         0.0               19               9.5                  13.0                    6.5                 0.0                  0.0                   1.0               0.500000                             0               0              1              0          0               0               0                 1               0           0                            1                           0                1                      0               0                  0              0               0                     1                  0                0              0                  0                   1                0                  1              0                0                 0                    1                          0                0                0                       0                       0                       0\n",
       "1  0000027376579751715         0.0                6               6.0                   5.0                    5.0                 0.0                  0.0                   1.0               1.000000                             0               0              1              0          0               0               0                 1               0           0                            1                           0                1                      0               0                  0              0               0                     1                  0                0              0                  0                   1                0                  1              0                0                 0                    1                          0                0                0                       0                       0                       0\n",
       "2  0000039460501403861         0.0                2               2.0                   2.0                    2.0                 0.0                  0.0                   1.0               1.000000                             0               0              1              0          0               0               1                 0               0           0                            0                           0                0                      0               0                  0              0               0                     0                  0                0              1                  0                   1                0                  1              0                0                 0                    1                          0                0                0                       0                       0                       0\n",
       "3  0000040862739425590         0.0                5               2.5                   5.0                    2.5                 0.0                  0.0                   1.0               0.500000                             1               0              1              0          0               0               0                 1               0           0                            1                           0                1                      0               0                  0              0               0                     0                  1                0              0                  0                   1                0                  1              0                0                 0                    1                          0                0                1                       0                       1                       0\n",
       "4  0000049363351866189         0.0                3               1.0                   3.0                    1.0                 3.0                  1.0                   1.0               0.333333                             0               0              1              0          0               0               0                 0               0           0                            0                           0                0                      0               0                  0              1               0                     0                  0                0              0                  0                   1                0                  0              1                0                 0                    0                          0                0                0                       0                       0                       0"
      ]
     },
     "execution_count": 137,
     "metadata": {},
     "output_type": "execute_result"
    }
   ],
   "source": [
    "df.head()"
   ]
  },
  {
   "cell_type": "code",
   "execution_count": 138,
   "metadata": {},
   "outputs": [
    {
     "name": "stdout",
     "output_type": "stream",
     "text": [
      "<class 'pandas.core.frame.DataFrame'>\n",
      "RangeIndex: 716705 entries, 0 to 716704\n",
      "Data columns (total 46 columns):\n",
      "id                              716705 non-null object\n",
      "logRevenue                      716705 non-null float64\n",
      "totals.hits_sum                 716705 non-null int32\n",
      "totals.hits_mean                716705 non-null float64\n",
      "totals.pageviews_sum            716705 non-null float64\n",
      "totals.pageviews_mean           716705 non-null float64\n",
      "totals.bounces_sum              716705 non-null float64\n",
      "totals.bounces_mean             716705 non-null float64\n",
      "totals.newVisits_sum            716705 non-null float64\n",
      "totals.newVisits_mean           716705 non-null float64\n",
      "TS_adwordsClickInfo.page_max    716705 non-null int32\n",
      "BS_Firefox_max                  716705 non-null int64\n",
      "BS_Chrome_max                   716705 non-null int64\n",
      "BS_Safari_max                   716705 non-null int64\n",
      "BS_IE_max                       716705 non-null int64\n",
      "BS_Android_max                  716705 non-null int64\n",
      "OS_Windows_max                  716705 non-null int64\n",
      "OS_Macintosh_max                716705 non-null int64\n",
      "OS_Android_max                  716705 non-null int64\n",
      "OS_iOS_max                      716705 non-null int64\n",
      "subCont_NorthernAmerica_max     716705 non-null int64\n",
      "subCont_Western Africa_max      716705 non-null int64\n",
      "country_USA_max                 716705 non-null int64\n",
      "country_Australia_max           716705 non-null int64\n",
      "medium_cpm_max                  716705 non-null int64\n",
      "CG_Affiliates_max               716705 non-null uint8\n",
      "CG_Direct_max                   716705 non-null uint8\n",
      "CG_Display_max                  716705 non-null uint8\n",
      "CG_organicSearch_max            716705 non-null uint8\n",
      "CG_paidSearch_max               716705 non-null uint8\n",
      "CG_Referral_max                 716705 non-null uint8\n",
      "CG_Social_max                   716705 non-null uint8\n",
      "device_Mobile_max               716705 non-null uint8\n",
      "device_Desktop_max              716705 non-null uint8\n",
      "cont_Africa_max                 716705 non-null uint8\n",
      "cont_Americas_max               716705 non-null uint8\n",
      "cont_Asia_max                   716705 non-null uint8\n",
      "cont_Europe_max                 716705 non-null uint8\n",
      "cont_Oceania_max                716705 non-null uint8\n",
      "TS_isTrueDirect_max             716705 non-null uint8\n",
      "TS_sessionQuality.100_max       716705 non-null uint8\n",
      "TS_Slot.RHS_max                 716705 non-null uint8\n",
      "TS_Slot.Top_max                 716705 non-null uint8\n",
      "TS_Network.Content_max          716705 non-null uint8\n",
      "TS_Network.GSearch_max          716705 non-null uint8\n",
      "TS_Network.PSearch_max          716705 non-null uint8\n",
      "dtypes: float64(8), int32(2), int64(14), object(1), uint8(21)\n",
      "memory usage: 145.6+ MB\n"
     ]
    }
   ],
   "source": [
    "df.info()"
   ]
  },
  {
   "cell_type": "code",
   "execution_count": 139,
   "metadata": {},
   "outputs": [],
   "source": [
    "X = df.drop(['id','logRevenue'], axis=1).values\n",
    "y = df['logRevenue'].values\n",
    "\n",
    "# Split data into 75% train and 25% test\n",
    "X_train,X_test,y_train,y_test=train_test_split(X, y, test_size=0.25, random_state=0)"
   ]
  },
  {
   "cell_type": "code",
   "execution_count": 140,
   "metadata": {},
   "outputs": [],
   "source": [
    "lr = LinearRegression()\n",
    "dt = DecisionTreeRegressor()\n",
    "gb = GradientBoostingRegressor()\n",
    "kn = KNeighborsRegressor()\n",
    "rf = RandomForestRegressor()"
   ]
  },
  {
   "cell_type": "code",
   "execution_count": 141,
   "metadata": {},
   "outputs": [],
   "source": [
    "regressors = [('Linear Regression', lr),\n",
    "              ('Decision Tree Regressor', dt),\n",
    "              ('Gradient Boosting Regressor', gb),\n",
    "              ('KNeighbors Regressor', kn),\n",
    "              ('Random Forest Regressor', rf)\n",
    "             ]"
   ]
  },
  {
   "cell_type": "code",
   "execution_count": 142,
   "metadata": {},
   "outputs": [
    {
     "name": "stdout",
     "output_type": "stream",
     "text": [
      "Linear Regression Train RMSE: 1.8077\n",
      "Linear Regression Test RMSE: 1.7569\n",
      "Decision Tree Regressor Train RMSE: 0.7377\n",
      "Decision Tree Regressor Test RMSE: 2.1295\n",
      "Gradient Boosting Regressor Train RMSE: 1.5847\n",
      "Gradient Boosting Regressor Test RMSE: 1.5628\n",
      "KNeighbors Regressor Train RMSE: 1.4677\n",
      "KNeighbors Regressor Test RMSE: 1.7442\n",
      "Random Forest Regressor Train RMSE: 0.9637\n",
      "Random Forest Regressor Test RMSE: 1.7239\n"
     ]
    }
   ],
   "source": [
    "for clf_name, clf in regressors:\n",
    "    clf.fit(X_train, y_train.ravel())\n",
    "    predicted = clf.predict(X_test)\n",
    "    y_pred_train = clf.predict(X_train)\n",
    "    RMSE_train = (MSE(y_train, y_pred_train))**(1/2)\n",
    "    print('{} Train RMSE: {:.4f}'.format(clf_name, RMSE_train))\n",
    "    y_pred_test = clf.predict(X_test)\n",
    "    RMSE_test = (MSE(y_test, y_pred_test))**(1/2)\n",
    "    print(\"{} Test RMSE: {:.4f}\".format(clf_name, RMSE_test))"
   ]
  },
  {
   "cell_type": "code",
   "execution_count": 11,
   "metadata": {
    "scrolled": true
   },
   "outputs": [
    {
     "name": "stdout",
     "output_type": "stream",
     "text": [
      "Linear Regression CV RMSE: 1.8864\n",
      "Decision Tree Regressor CV RMSE: 2.2538\n",
      "Gradient Boosting Regressor CV RMSE: 1.5951\n",
      "KNeighbors Regressor CV RMSE: 1.8651\n",
      "Random Forest Regressor CV RMSE: 1.7060\n"
     ]
    }
   ],
   "source": [
    "# cross validation\n",
    "for clf_name, clf in regressors:\n",
    "    MSE_CV_scores = - cross_val_score(clf, X_train, y_train, cv=5, scoring='neg_mean_squared_error', n_jobs=-1) \n",
    "    RMSE_CV = (MSE_CV_scores.mean())**(1/2)\n",
    "    print('{} CV RMSE: {:.4f}'.format(clf_name, RMSE_CV))"
   ]
  },
  {
   "cell_type": "markdown",
   "metadata": {},
   "source": [
    "### Light GBM"
   ]
  },
  {
   "cell_type": "code",
   "execution_count": 27,
   "metadata": {},
   "outputs": [],
   "source": [
    "from lightgbm import LGBMRegressor"
   ]
  },
  {
   "cell_type": "code",
   "execution_count": 33,
   "metadata": {},
   "outputs": [],
   "source": [
    "lgb = LGBMRegressor(random_state=0)"
   ]
  },
  {
   "cell_type": "code",
   "execution_count": 34,
   "metadata": {},
   "outputs": [],
   "source": [
    "regressors = [('LightGBM', lgb)]"
   ]
  },
  {
   "cell_type": "code",
   "execution_count": 35,
   "metadata": {},
   "outputs": [
    {
     "name": "stdout",
     "output_type": "stream",
     "text": [
      "LightGBM Train RMSE: 1.4835\n",
      "LightGBM Test RMSE: 1.5320\n"
     ]
    }
   ],
   "source": [
    "for clf_name, clf in regressors:\n",
    "    clf.fit(X_train, y_train.ravel())\n",
    "    predicted = clf.predict(X_test)\n",
    "    y_pred_train = clf.predict(X_train)\n",
    "    RMSE_train = (MSE(y_train, y_pred_train))**(1/2)\n",
    "    print('{} Train RMSE: {:.4f}'.format(clf_name, RMSE_train))\n",
    "    y_pred_test = clf.predict(X_test)\n",
    "    RMSE_test = (MSE(y_test, y_pred_test))**(1/2)\n",
    "    print(\"{} Test RMSE: {:.4f}\".format(clf_name, RMSE_test))"
   ]
  },
  {
   "cell_type": "code",
   "execution_count": 36,
   "metadata": {},
   "outputs": [
    {
     "name": "stdout",
     "output_type": "stream",
     "text": [
      "LightGBM CV RMSE: 1.5735\n"
     ]
    }
   ],
   "source": [
    "# cross validation\n",
    "for clf_name, clf in regressors:\n",
    "    MSE_CV_scores = - cross_val_score(clf, X_train, y_train, cv=5, scoring='neg_mean_squared_error', n_jobs=-1) \n",
    "    RMSE_CV = (MSE_CV_scores.mean())**(1/2)\n",
    "    print('{} CV RMSE: {:.4f}'.format(clf_name, RMSE_CV))"
   ]
  },
  {
   "cell_type": "code",
   "execution_count": 37,
   "metadata": {},
   "outputs": [],
   "source": [
    "# Tune Paramaters with lightgbm\n",
    "\n",
    "# Create parameters to search\n",
    "gridParams = {\n",
    "    'learning_rate': [0.01, 0.05, 0.1, 0.2], # default 0.1\n",
    "    'n_estimators': [40, 100, 150], # default 100\n",
    "    'num_leaves': [21,31,41], # default 31\n",
    "    'random_state': [0], # Updated from 'seed'\n",
    "    'max_depth': [-1, 20],\n",
    "    }"
   ]
  },
  {
   "cell_type": "code",
   "execution_count": 39,
   "metadata": {},
   "outputs": [
    {
     "data": {
      "text/plain": [
       "GridSearchCV(cv=5, error_score='raise-deprecating',\n",
       "       estimator=LGBMRegressor(boosting_type='gbdt', class_weight=None, colsample_bytree=1.0,\n",
       "       importance_type='split', learning_rate=0.1, max_depth=1000,\n",
       "       min_child_samples=20, min_child_weight=0.001, min_split_gain=0.0,\n",
       "       n_estimators=100, n_jobs=3, num_leaves=31, objective='regression',\n",
       "       random_state=None, reg_alpha=0.0, reg_lambda=0.0, silent=True,\n",
       "       subsample=1.0, subsample_for_bin=200000, subsample_freq=0),\n",
       "       fit_params=None, iid='warn', n_jobs=None,\n",
       "       param_grid={'learning_rate': [0.01, 0.05, 0.1, 0.2], 'n_estimators': [40, 100, 150], 'num_leaves': [21, 31, 41], 'random_state': [0], 'max_depth': [-1, 20]},\n",
       "       pre_dispatch='2*n_jobs', refit=True, return_train_score='warn',\n",
       "       scoring=None, verbose=0)"
      ]
     },
     "execution_count": 39,
     "metadata": {},
     "output_type": "execute_result"
    }
   ],
   "source": [
    "lgb_grid = LGBMRegressor(boosting_type= 'gbdt',\n",
    "          objective = 'regression',\n",
    "          n_jobs = 3, # Updated from 'nthread'\n",
    "          max_depth = 1000)\n",
    "\n",
    "# Create the grid\n",
    "grid = GridSearchCV(lgb_grid, gridParams, cv=5)\n",
    "grid.fit(X_train, y_train)"
   ]
  },
  {
   "cell_type": "code",
   "execution_count": 40,
   "metadata": {},
   "outputs": [
    {
     "name": "stdout",
     "output_type": "stream",
     "text": [
      "Best parameters found by grid search are: {'learning_rate': 0.05, 'max_depth': -1, 'n_estimators': 150, 'num_leaves': 31, 'random_state': 0}\n"
     ]
    }
   ],
   "source": [
    "print('Best parameters found by grid search are:', grid.best_params_)"
   ]
  },
  {
   "cell_type": "code",
   "execution_count": 41,
   "metadata": {},
   "outputs": [
    {
     "name": "stdout",
     "output_type": "stream",
     "text": [
      "LightGBM Tuned Train RMSE: 1.4992\n",
      "LightGBM Tuned RMSE: 1.5286\n"
     ]
    }
   ],
   "source": [
    "y_pred_train = grid.predict(X_train)\n",
    "RMSE_train = (MSE(y_train, y_pred_train))**(1/2)\n",
    "print('LightGBM Tuned Train RMSE: {:.4f}'.format(RMSE_train))\n",
    "y_pred_test = grid.predict(X_test)\n",
    "RMSE_test = (MSE(y_test, y_pred_test))**(1/2)\n",
    "print(\"LightGBM Tuned RMSE: {:.4f}\".format(RMSE_test))"
   ]
  },
  {
   "cell_type": "code",
   "execution_count": 43,
   "metadata": {},
   "outputs": [
    {
     "name": "stdout",
     "output_type": "stream",
     "text": [
      "LightGBM Tuned CV RMSE: 1.5705\n"
     ]
    }
   ],
   "source": [
    "# Tuned Set cross validation\n",
    "lgbm_tuned = LGBMRegressor(learning_rate= 0.05, max_depth= -1, n_estimators=150, num_leaves= 31, random_state=0)\n",
    "regressors = [('LightGBM Tuned', lgbm_tuned)]\n",
    "for clf_name, clf in regressors:\n",
    "    MSE_CV_scores = - cross_val_score(clf, X_train, y_train, cv=5, scoring='neg_mean_squared_error', n_jobs=-1) \n",
    "    RMSE_CV = (MSE_CV_scores.mean())**(1/2)\n",
    "    print('{} CV RMSE: {:.4f}'.format(clf_name, RMSE_CV))"
   ]
  },
  {
   "cell_type": "markdown",
   "metadata": {},
   "source": [
    "### Ridge Regression Model"
   ]
  },
  {
   "cell_type": "code",
   "execution_count": 64,
   "metadata": {},
   "outputs": [],
   "source": [
    "ridge = RidgeCV(cv=10)\n",
    "\n",
    "# fit or train the linear regression model on the training set and store␣\n",
    "ridge.fit(X_train, y_train)\n",
    "# show the alpha parameter used in final ridgeCV model ridge.alpha_\n",
    "ridge.alpha_\n",
    "\n",
    "#\n",
    "train_pred = ridge.predict(X_train)\n",
    "ridge_test_pred = ridge.predict(X_test)"
   ]
  },
  {
   "cell_type": "code",
   "execution_count": 65,
   "metadata": {},
   "outputs": [
    {
     "name": "stdout",
     "output_type": "stream",
     "text": [
      "RMSE on train for regression:  1.8034646533154102\n",
      "RMSE on test for regression:  1.7532182935174567\n"
     ]
    }
   ],
   "source": [
    "#print RMSE of training predictions \n",
    "print('RMSE on train for regression: ', np.sqrt(MSE(y_train, train_pred)))\n",
    "print('RMSE on test for regression: ', np.sqrt(MSE(y_test,ridge_test_pred)))"
   ]
  },
  {
   "cell_type": "code",
   "execution_count": 80,
   "metadata": {},
   "outputs": [
    {
     "name": "stdout",
     "output_type": "stream",
     "text": [
      "CV RMSE: 1.8832573754617306\n"
     ]
    }
   ],
   "source": [
    "# Compute the array containing the 10-folds CV MSEs\n",
    "MSE_CV_scores = - cross_val_score(ridge, X_train, y_train, cv=10, \n",
    "                                  scoring='neg_mean_squared_error', \n",
    "                                  n_jobs=-1) \n",
    "\n",
    "# Compute the 10-folds CV RMSE\n",
    "RMSE_CV = (MSE_CV_scores.mean())**(1/2)\n",
    "\n",
    "# Print RMSE_CV\n",
    "print('CV RMSE: {}'.format(RMSE_CV))\n"
   ]
  },
  {
   "cell_type": "markdown",
   "metadata": {},
   "source": [
    "### Gradient Model"
   ]
  },
  {
   "cell_type": "code",
   "execution_count": 105,
   "metadata": {},
   "outputs": [
    {
     "data": {
      "text/plain": [
       "GradientBoostingRegressor(alpha=0.9, criterion='friedman_mse', init=None,\n",
       "             learning_rate=0.01, loss='ls', max_depth=4, max_features=None,\n",
       "             max_leaf_nodes=None, min_impurity_decrease=0.0,\n",
       "             min_impurity_split=None, min_samples_leaf=1,\n",
       "             min_samples_split=2, min_weight_fraction_leaf=0.0,\n",
       "             n_estimators=500, n_iter_no_change=None, presort='auto',\n",
       "             random_state=None, subsample=1.0, tol=0.0001,\n",
       "             validation_fraction=0.1, verbose=0, warm_start=False)"
      ]
     },
     "execution_count": 105,
     "metadata": {},
     "output_type": "execute_result"
    }
   ],
   "source": [
    "from sklearn.ensemble import GradientBoostingRegressor\n",
    "from sklearn import ensemble\n",
    "# Fit regression model\n",
    "params = {'n_estimators': 500, 'max_depth': 4, 'min_samples_split': 2,\n",
    "          'learning_rate': 0.01, 'loss': 'ls'}\n",
    "gradient = ensemble.GradientBoostingRegressor(**params)\n",
    "\n",
    "gradient.fit(X_train, y_train)"
   ]
  },
  {
   "cell_type": "code",
   "execution_count": 114,
   "metadata": {},
   "outputs": [],
   "source": [
    "# Predict the test set labels 'y_pred' \n",
    "y_pred = gradient.predict(X_test) \n",
    "y_pred_train=gradient.predict(X_train) \n",
    "\n",
    "# Evaluate the test set RMSE \n",
    "rmse_test = MSE(y_test, y_pred)**(1/2) \n",
    "rmse_train = MSE(y_train, y_pred_train)**(1/2) "
   ]
  },
  {
   "cell_type": "code",
   "execution_count": 120,
   "metadata": {},
   "outputs": [
    {
     "data": {
      "image/png": "[encoded data removed]",
      "text/plain": [
       "<Figure size 864x576 with 1 Axes>"
      ]
     },
     "metadata": {
      "needs_background": "light"
     },
     "output_type": "display_data"
    }
   ],
   "source": [
    "# Create a pd.Series of features importances\n",
    "importances_grad = pd.Series(gradient.feature_importances_,\n",
    "index = X_train.columns)\n",
    "\n",
    "# Sort importances_rf\n",
    "sorted_importances_grad = importances_grad.sort_values()\n",
    "\n",
    "# Make a horizontal bar plot\n",
    "plt.figure(figsize=(12, 8))  \n",
    "sorted_importances_grad.plot(kind='barh', color='blue')\n",
    "plt.show()"
   ]
  },
  {
   "cell_type": "code",
   "execution_count": 116,
   "metadata": {},
   "outputs": [
    {
     "name": "stdout",
     "output_type": "stream",
     "text": [
      "Train set RMSE for gradient on train data: 1.569\n",
      "Test set RMSE for gradient on test data: 1.549\n"
     ]
    }
   ],
   "source": [
    "# Print the test set RMSE \n",
    "print('Train set RMSE for gradient on train data: {:.3f}'.format(rmse_train))\n",
    "print('Test set RMSE for gradient on test data: {:.3f}'.format(rmse_test)) "
   ]
  },
  {
   "cell_type": "code",
   "execution_count": 121,
   "metadata": {},
   "outputs": [
    {
     "name": "stdout",
     "output_type": "stream",
     "text": [
      "CV RMSE: 1.5890321737147615\n"
     ]
    }
   ],
   "source": [
    "# Compute the array containing the 10-folds CV MSEs\n",
    "MSE_CV_scores = - cross_val_score(gradient, X_train, y_train, cv=10, \n",
    "                                  scoring='neg_mean_squared_error', \n",
    "                                  n_jobs=-1) \n",
    "\n",
    "# Compute the 10-folds CV RMSE\n",
    "RMSE_CV = (MSE_CV_scores.mean())**(1/2)\n",
    "\n",
    "# Print RMSE_CV\n",
    "print('CV RMSE: {}'.format(RMSE_CV))\n"
   ]
  },
  {
   "cell_type": "markdown",
   "metadata": {},
   "source": [
    "### XGBoost Model"
   ]
  },
  {
   "cell_type": "code",
   "execution_count": 85,
   "metadata": {},
   "outputs": [
    {
     "name": "stdout",
     "output_type": "stream",
     "text": [
      "[0]\tTest-rmse:1.92166\n",
      "Will train until Test-rmse hasn't improved in 10 rounds.\n",
      "[1]\tTest-rmse:1.85834\n",
      "[2]\tTest-rmse:1.80575\n",
      "[3]\tTest-rmse:1.76179\n",
      "[4]\tTest-rmse:1.72542\n",
      "[5]\tTest-rmse:1.69406\n",
      "[6]\tTest-rmse:1.66826\n",
      "[7]\tTest-rmse:1.64707\n",
      "[8]\tTest-rmse:1.62902\n",
      "[9]\tTest-rmse:1.61358\n",
      "[10]\tTest-rmse:1.60124\n",
      "[11]\tTest-rmse:1.59105\n",
      "[12]\tTest-rmse:1.58294\n",
      "[13]\tTest-rmse:1.57588\n",
      "[14]\tTest-rmse:1.56972\n",
      "[15]\tTest-rmse:1.56492\n",
      "[16]\tTest-rmse:1.56075\n",
      "[17]\tTest-rmse:1.55755\n",
      "[18]\tTest-rmse:1.55472\n",
      "[19]\tTest-rmse:1.55265\n",
      "[20]\tTest-rmse:1.55028\n",
      "[21]\tTest-rmse:1.54817\n",
      "[22]\tTest-rmse:1.54683\n",
      "[23]\tTest-rmse:1.54537\n",
      "[24]\tTest-rmse:1.54411\n",
      "[25]\tTest-rmse:1.54286\n",
      "[26]\tTest-rmse:1.54213\n",
      "[27]\tTest-rmse:1.54121\n",
      "[28]\tTest-rmse:1.54032\n",
      "[29]\tTest-rmse:1.53972\n",
      "[30]\tTest-rmse:1.53915\n",
      "[31]\tTest-rmse:1.53881\n",
      "[32]\tTest-rmse:1.53816\n",
      "[33]\tTest-rmse:1.53786\n",
      "[34]\tTest-rmse:1.53794\n",
      "[35]\tTest-rmse:1.53766\n",
      "[36]\tTest-rmse:1.53742\n",
      "[37]\tTest-rmse:1.53693\n",
      "[38]\tTest-rmse:1.53698\n",
      "[39]\tTest-rmse:1.53666\n",
      "[40]\tTest-rmse:1.53636\n",
      "[41]\tTest-rmse:1.53616\n",
      "[42]\tTest-rmse:1.53629\n",
      "[43]\tTest-rmse:1.53597\n",
      "[44]\tTest-rmse:1.5356\n",
      "[45]\tTest-rmse:1.53572\n",
      "[46]\tTest-rmse:1.53578\n",
      "[47]\tTest-rmse:1.53602\n",
      "[48]\tTest-rmse:1.53557\n",
      "[49]\tTest-rmse:1.53551\n",
      "[50]\tTest-rmse:1.53524\n",
      "[51]\tTest-rmse:1.53517\n",
      "[52]\tTest-rmse:1.53512\n",
      "[53]\tTest-rmse:1.53507\n",
      "[54]\tTest-rmse:1.535\n",
      "[55]\tTest-rmse:1.53499\n",
      "[56]\tTest-rmse:1.53504\n",
      "[57]\tTest-rmse:1.5348\n",
      "[58]\tTest-rmse:1.53474\n",
      "[59]\tTest-rmse:1.5346\n",
      "[60]\tTest-rmse:1.53464\n",
      "[61]\tTest-rmse:1.53469\n",
      "[62]\tTest-rmse:1.53434\n",
      "[63]\tTest-rmse:1.53427\n",
      "[64]\tTest-rmse:1.53459\n",
      "[65]\tTest-rmse:1.53466\n",
      "[66]\tTest-rmse:1.53478\n",
      "[67]\tTest-rmse:1.53495\n",
      "[68]\tTest-rmse:1.53503\n",
      "[69]\tTest-rmse:1.53448\n",
      "[70]\tTest-rmse:1.53451\n",
      "[71]\tTest-rmse:1.53434\n",
      "[72]\tTest-rmse:1.53428\n",
      "[73]\tTest-rmse:1.53432\n",
      "Stopping. Best iteration:\n",
      "[63]\tTest-rmse:1.53427\n",
      "\n"
     ]
    }
   ],
   "source": [
    "# xgb models only accept 'DMatrix' input; convert the data here \n",
    "dtrain = xgb.DMatrix(X_train, label=y_train) \n",
    "dtest = xgb.DMatrix(X_test, label=y_test)\n",
    "# parameter grid for xgb model \n",
    "param_dict = { 'max_depth':6, 'min_child_weight': 1, \n",
    "              'eta':.1, 'subsample': 1, \n",
    "              'colsample_bytree': 1, # Other parameters 'objective':'reg:linear', 'eval_metric':'rmse'\n",
    "}\n",
    "# train XGB model on split training data using split test data \n",
    "num_boost_round=999 \n",
    "model_xgb = xgb.train( param_dict, dtrain, \n",
    "                  num_boost_round=num_boost_round, \n",
    "                  evals=[(dtest, \"Test\")], \n",
    "                  early_stopping_rounds=10)"
   ]
  },
  {
   "cell_type": "code",
   "execution_count": 92,
   "metadata": {},
   "outputs": [
    {
     "name": "stdout",
     "output_type": "stream",
     "text": [
      "RMSE of XGB model on train data:  1.495640233002153\n",
      "RMSE of XGB model on test data:  1.534322659461396\n"
     ]
    }
   ],
   "source": [
    "dpred=xgb.DMatrix(X_train)\n",
    "\n",
    "# predict RMSE of model on training data \n",
    "print(\"RMSE of XGB model on train data: \", np.sqrt(MSE(model_xgb.predict(dpred), y_train)))\n",
    "# predict RMSE of model on test data \n",
    "model_xgb_test_pred = model_xgb.predict(xgb.DMatrix(X_test)) \n",
    "print(\"RMSE of XGB model on test data: \", np.sqrt(MSE(model_xgb_test_pred, y_test)))"
   ]
  },
  {
   "cell_type": "code",
   "execution_count": 88,
   "metadata": {
    "scrolled": true
   },
   "outputs": [
    {
     "data": {
      "text/plain": [
       "<Figure size 1440x1440 with 0 Axes>"
      ]
     },
     "metadata": {},
     "output_type": "display_data"
    },
    {
     "data": {
      "image/png": "[encoded data removed]",
      "text/plain": [
       "<Figure size 432x288 with 1 Axes>"
      ]
     },
     "metadata": {
      "needs_background": "light"
     },
     "output_type": "display_data"
    }
   ],
   "source": [
    "plt.figure(figsize=(20, 20))  \n",
    "plt.show(plot_importance(model_xgb))"
   ]
  },
  {
   "cell_type": "code",
   "execution_count": null,
   "metadata": {},
   "outputs": [],
   "source": []
  }
 ],
 "metadata": {
  "kernelspec": {
   "display_name": "Python 3",
   "language": "python",
   "name": "python3"
  },
  "language_info": {
   "codemirror_mode": {
    "name": "ipython",
    "version": 3
   },
   "file_extension": ".py",
   "mimetype": "text/x-python",
   "name": "python",
   "nbconvert_exporter": "python",
   "pygments_lexer": "ipython3",
   "version": "3.6.9"
  }
 },
 "nbformat": 4,
 "nbformat_minor": 2
}
